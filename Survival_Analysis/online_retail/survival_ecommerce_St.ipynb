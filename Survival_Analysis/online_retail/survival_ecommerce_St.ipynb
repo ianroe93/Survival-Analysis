{
 "cells": [
  {
   "cell_type": "markdown",
   "metadata": {
    "slideshow": {
     "slide_type": "slide"
    }
   },
   "source": [
    "# Survival Analysis"
   ]
  },
  {
   "cell_type": "markdown",
   "metadata": {},
   "source": [
    "## 1. Notebook Styling and Library Installation"
   ]
  },
  {
   "cell_type": "code",
   "execution_count": 1,
   "metadata": {
    "collapsed": true,
    "jupyter": {
     "outputs_hidden": true
    },
    "tags": []
   },
   "outputs": [
    {
     "name": "stdout",
     "output_type": "stream",
     "text": [
      "Requirement already satisfied: xgbse in /opt/conda/lib/python3.10/site-packages (0.2.3)\n",
      "Requirement already satisfied: xgboost>=1.4.0 in /opt/conda/lib/python3.10/site-packages (from xgbse) (1.7.1)\n",
      "Requirement already satisfied: joblib>=0.15.1 in /opt/conda/lib/python3.10/site-packages (from xgbse) (1.1.0)\n",
      "Requirement already satisfied: numpy>=1.18.4 in /opt/conda/lib/python3.10/site-packages (from xgbse) (1.22.4)\n",
      "Requirement already satisfied: lifelines>=0.25.4 in /opt/conda/lib/python3.10/site-packages (from xgbse) (0.27.4)\n",
      "Requirement already satisfied: scikit-learn>=0.22.2 in /opt/conda/lib/python3.10/site-packages (from xgbse) (1.1.2)\n",
      "Requirement already satisfied: pandas>=1.0.* in /opt/conda/lib/python3.10/site-packages (from xgbse) (1.4.4)\n",
      "Requirement already satisfied: autograd-gamma>=0.3 in /opt/conda/lib/python3.10/site-packages (from lifelines>=0.25.4->xgbse) (0.5.0)\n",
      "Requirement already satisfied: scipy>=1.2.0 in /opt/conda/lib/python3.10/site-packages (from lifelines>=0.25.4->xgbse) (1.9.1)\n",
      "Requirement already satisfied: autograd>=1.5 in /opt/conda/lib/python3.10/site-packages (from lifelines>=0.25.4->xgbse) (1.5)\n",
      "Requirement already satisfied: matplotlib>=3.0 in /opt/conda/lib/python3.10/site-packages (from lifelines>=0.25.4->xgbse) (3.5.3)\n",
      "Requirement already satisfied: formulaic>=0.2.2 in /opt/conda/lib/python3.10/site-packages (from lifelines>=0.25.4->xgbse) (0.2.4)\n",
      "Requirement already satisfied: python-dateutil>=2.8.1 in /opt/conda/lib/python3.10/site-packages (from pandas>=1.0.*->xgbse) (2.8.2)\n",
      "Requirement already satisfied: pytz>=2020.1 in /opt/conda/lib/python3.10/site-packages (from pandas>=1.0.*->xgbse) (2022.2.1)\n",
      "Requirement already satisfied: threadpoolctl>=2.0.0 in /opt/conda/lib/python3.10/site-packages (from scikit-learn>=0.22.2->xgbse) (3.1.0)\n",
      "Requirement already satisfied: future>=0.15.2 in /opt/conda/lib/python3.10/site-packages (from autograd>=1.5->lifelines>=0.25.4->xgbse) (0.18.2)\n",
      "Requirement already satisfied: interface-meta>=1.2 in /opt/conda/lib/python3.10/site-packages (from formulaic>=0.2.2->lifelines>=0.25.4->xgbse) (1.3.0)\n",
      "Requirement already satisfied: astor in /opt/conda/lib/python3.10/site-packages (from formulaic>=0.2.2->lifelines>=0.25.4->xgbse) (0.8.1)\n",
      "Requirement already satisfied: wrapt in /opt/conda/lib/python3.10/site-packages (from formulaic>=0.2.2->lifelines>=0.25.4->xgbse) (1.14.1)\n",
      "Requirement already satisfied: packaging>=20.0 in /opt/conda/lib/python3.10/site-packages (from matplotlib>=3.0->lifelines>=0.25.4->xgbse) (21.3)\n",
      "Requirement already satisfied: fonttools>=4.22.0 in /opt/conda/lib/python3.10/site-packages (from matplotlib>=3.0->lifelines>=0.25.4->xgbse) (4.37.1)\n",
      "Requirement already satisfied: kiwisolver>=1.0.1 in /opt/conda/lib/python3.10/site-packages (from matplotlib>=3.0->lifelines>=0.25.4->xgbse) (1.4.4)\n",
      "Requirement already satisfied: pillow>=6.2.0 in /opt/conda/lib/python3.10/site-packages (from matplotlib>=3.0->lifelines>=0.25.4->xgbse) (9.2.0)\n",
      "Requirement already satisfied: pyparsing>=2.2.1 in /opt/conda/lib/python3.10/site-packages (from matplotlib>=3.0->lifelines>=0.25.4->xgbse) (3.0.9)\n",
      "Requirement already satisfied: cycler>=0.10 in /opt/conda/lib/python3.10/site-packages (from matplotlib>=3.0->lifelines>=0.25.4->xgbse) (0.11.0)\n",
      "Requirement already satisfied: six>=1.5 in /opt/conda/lib/python3.10/site-packages (from python-dateutil>=2.8.1->pandas>=1.0.*->xgbse) (1.16.0)\n"
     ]
    }
   ],
   "source": [
    "# !conda install -c sebp scikit-survival --yes \n",
    "# !pip install lifelines\n",
    "!pip install xgbse"
   ]
  },
  {
   "cell_type": "code",
   "execution_count": 2,
   "metadata": {},
   "outputs": [],
   "source": [
    "import numpy as np # Library for math operations\n",
    "import pandas as pd # Library for data handling\n",
    "from sksurv.nonparametric import kaplan_meier_estimator # Library for survival analysis\n",
    "import matplotlib.pyplot as plt # Library for plotting\n",
    "import seaborn as sns # Another library for plotting\n",
    "plt.style.use('fivethirtyeight') # Set the styling to FiveThirtyEight setting.\n",
    "from datetime import date"
   ]
  },
  {
   "cell_type": "markdown",
   "metadata": {},
   "source": [
    "## 2. Read & Process the Data"
   ]
  },
  {
   "cell_type": "code",
   "execution_count": 3,
   "metadata": {},
   "outputs": [],
   "source": [
    "trainInput = pd.read_csv('trainInput.csv')\n",
    "testInput = pd.read_csv('testInput.csv')"
   ]
  },
  {
   "cell_type": "code",
   "execution_count": 4,
   "metadata": {},
   "outputs": [],
   "source": [
    "trainData = trainInput.drop(columns = ['id','purchased', 'days_on_market'])\n",
    "trainLabels = trainInput['purchased']\n",
    "testData = testInput.drop(columns = ['id','purchased', 'days_on_market'])\n",
    "testLabels = testInput['purchased']"
   ]
  },
  {
   "cell_type": "code",
   "execution_count": 5,
   "metadata": {},
   "outputs": [
    {
     "data": {
      "text/plain": [
       "1    8458\n",
       "0    7404\n",
       "Name: purchased, dtype: int64"
      ]
     },
     "execution_count": 5,
     "metadata": {},
     "output_type": "execute_result"
    }
   ],
   "source": [
    "trainInput.purchased.value_counts()"
   ]
  },
  {
   "cell_type": "markdown",
   "metadata": {
    "jupyter": {
     "outputs_hidden": true
    },
    "tags": []
   },
   "source": [
    "## 3. Data Augmentation:"
   ]
  },
  {
   "cell_type": "code",
   "execution_count": 6,
   "metadata": {},
   "outputs": [],
   "source": [
    "trainData[['product_id']] = trainData[['product_id']].astype(str)\n",
    "\n",
    "testData[['product_id']] = testData[['product_id']].astype(str)"
   ]
  },
  {
   "cell_type": "code",
   "execution_count": 7,
   "metadata": {
    "collapsed": true,
    "jupyter": {
     "outputs_hidden": true
    },
    "tags": []
   },
   "outputs": [
    {
     "name": "stdout",
     "output_type": "stream",
     "text": [
      "Requirement already satisfied: feature-engine in /opt/conda/lib/python3.10/site-packages (1.5.2)\n",
      "Requirement already satisfied: numpy>=1.18.2 in /opt/conda/lib/python3.10/site-packages (from feature-engine) (1.22.4)\n",
      "Requirement already satisfied: pandas>=1.0.3 in /opt/conda/lib/python3.10/site-packages (from feature-engine) (1.4.4)\n",
      "Requirement already satisfied: scipy>=1.4.1 in /opt/conda/lib/python3.10/site-packages (from feature-engine) (1.9.1)\n",
      "Requirement already satisfied: scikit-learn>=1.0.0 in /opt/conda/lib/python3.10/site-packages (from feature-engine) (1.1.2)\n",
      "Requirement already satisfied: statsmodels>=0.11.1 in /opt/conda/lib/python3.10/site-packages (from feature-engine) (0.13.2)\n",
      "Requirement already satisfied: python-dateutil>=2.8.1 in /opt/conda/lib/python3.10/site-packages (from pandas>=1.0.3->feature-engine) (2.8.2)\n",
      "Requirement already satisfied: pytz>=2020.1 in /opt/conda/lib/python3.10/site-packages (from pandas>=1.0.3->feature-engine) (2022.2.1)\n",
      "Requirement already satisfied: joblib>=1.0.0 in /opt/conda/lib/python3.10/site-packages (from scikit-learn>=1.0.0->feature-engine) (1.1.0)\n",
      "Requirement already satisfied: threadpoolctl>=2.0.0 in /opt/conda/lib/python3.10/site-packages (from scikit-learn>=1.0.0->feature-engine) (3.1.0)\n",
      "Requirement already satisfied: patsy>=0.5.2 in /opt/conda/lib/python3.10/site-packages (from statsmodels>=0.11.1->feature-engine) (0.5.2)\n",
      "Requirement already satisfied: packaging>=21.3 in /opt/conda/lib/python3.10/site-packages (from statsmodels>=0.11.1->feature-engine) (21.3)\n",
      "Requirement already satisfied: pyparsing!=3.0.5,>=2.0.2 in /opt/conda/lib/python3.10/site-packages (from packaging>=21.3->statsmodels>=0.11.1->feature-engine) (3.0.9)\n",
      "Requirement already satisfied: six in /opt/conda/lib/python3.10/site-packages (from patsy>=0.5.2->statsmodels>=0.11.1->feature-engine) (1.16.0)\n"
     ]
    }
   ],
   "source": [
    "!pip install feature-engine"
   ]
  },
  {
   "cell_type": "markdown",
   "metadata": {},
   "source": [
    "### 3.1. Treat Categorical Variables:"
   ]
  },
  {
   "cell_type": "code",
   "execution_count": 8,
   "metadata": {},
   "outputs": [],
   "source": [
    "from feature_engine.encoding import RareLabelEncoder\n",
    "\n",
    "enc = RareLabelEncoder(tol=0.001, n_categories = 2)\n",
    "\n",
    "trainData, testData = enc.fit_transform(trainData), enc.transform(testData)"
   ]
  },
  {
   "cell_type": "markdown",
   "metadata": {},
   "source": [
    "### 3.2. Drop Psudo-Constant Features (Small Variation)"
   ]
  },
  {
   "cell_type": "code",
   "execution_count": 9,
   "metadata": {},
   "outputs": [],
   "source": [
    "from feature_engine.selection import DropConstantFeatures\n",
    "\n",
    "con = DropConstantFeatures(tol=.99)\n",
    "\n",
    "trainData, testData = con.fit_transform(trainData), con.transform(testData)"
   ]
  },
  {
   "cell_type": "markdown",
   "metadata": {},
   "source": [
    "### 3.3. Encode the Categorical Features"
   ]
  },
  {
   "cell_type": "code",
   "execution_count": 10,
   "metadata": {},
   "outputs": [],
   "source": [
    "from feature_engine.encoding import WoEEncoder\n",
    "\n",
    "enc2 = WoEEncoder()\n",
    "\n",
    "trainData, testData = enc2.fit_transform(trainData,trainLabels), enc2.transform(testData)"
   ]
  },
  {
   "cell_type": "markdown",
   "metadata": {},
   "source": [
    "## 4. Kaplan-Meier (for data exploration)"
   ]
  },
  {
   "cell_type": "code",
   "execution_count": 11,
   "metadata": {},
   "outputs": [
    {
     "data": {
      "image/png": "[encoded data removed]",
      "text/plain": [
       "<Figure size 640x480 with 1 Axes>"
      ]
     },
     "metadata": {},
     "output_type": "display_data"
    }
   ],
   "source": [
    "from sksurv.nonparametric import kaplan_meier_estimator \n",
    "\n",
    "time, survival_prob = \\\n",
    "    kaplan_meier_estimator(\n",
    "    trainInput.purchased.astype(bool), \n",
    "    trainInput[\"days_on_market\"]) \n",
    "\n",
    "fig, ax = plt.subplots()\n",
    "sns.lineplot(y = survival_prob, x=time, drawstyle='steps-post')\n",
    "ax.set_ylim(0,1)\n",
    "plt.show()"
   ]
  },
  {
   "cell_type": "markdown",
   "metadata": {},
   "source": [
    "## 5. XGBoost Survival Model"
   ]
  },
  {
   "cell_type": "code",
   "execution_count": 12,
   "metadata": {},
   "outputs": [],
   "source": [
    "from sklearn.preprocessing import MinMaxScaler\n",
    "\n",
    "# importing model and utils from xgbse\n",
    "from xgbse import (XGBSEKaplanNeighbors, \n",
    "                   XGBSEDebiasedBCE,\n",
    "                   XGBSEKaplanTree,\n",
    "                   XGBSEStackedWeibull,\n",
    "                   XGBSEBootstrapEstimator)\n",
    "\n",
    "from xgbse.converters import convert_to_structured\n",
    "\n",
    "# importing metrics\n",
    "from xgbse.metrics import (\n",
    "    concordance_index,\n",
    "    approx_brier_score,\n",
    "    dist_calibration_score\n",
    ")\n",
    "\n",
    "scaler = MinMaxScaler()\n",
    "\n",
    "trainData = pd.DataFrame(scaler.fit_transform(trainData), \n",
    "                         columns=trainData.columns)\n",
    "\n",
    "testData = pd.DataFrame(scaler.fit_transform(testData), \n",
    "                         columns=testData.columns)\n",
    "\n",
    "X = trainData\n",
    "y = convert_to_structured(trainInput['days_on_market'], trainLabels)\n",
    "\n",
    "X_val = testData\n",
    "y_val = convert_to_structured(testInput['days_on_market'], testLabels)"
   ]
  },
  {
   "cell_type": "code",
   "execution_count": 13,
   "metadata": {},
   "outputs": [
    {
     "name": "stdout",
     "output_type": "stream",
     "text": [
      "C-index: 0.7487488216992595\n"
     ]
    }
   ],
   "source": [
    "# fitting xgbse model\n",
    "xgbse_model = XGBSEKaplanNeighbors(n_neighbors=5)\n",
    "xgbse_model.fit(X, y)\n",
    "\n",
    "# predicting\n",
    "preds = xgbse_model.predict(X_val)\n",
    "\n",
    "# # running metrics\n",
    "print(f'C-index: {concordance_index(y_val, preds)}')\n",
    "# print(f'Avg. Brier Score: {approx_brier_score(y_val, preds)}')"
   ]
  },
  {
   "cell_type": "code",
   "execution_count": 14,
   "metadata": {},
   "outputs": [
    {
     "data": {
      "text/plain": [
       "{'product_id': 12958.0, 'brand': 3672.0, 'price': 19166.0, 'color': 7421.0}"
      ]
     },
     "execution_count": 14,
     "metadata": {},
     "output_type": "execute_result"
    }
   ],
   "source": [
    "xgbse_model.feature_importances_"
   ]
  },
  {
   "cell_type": "markdown",
   "metadata": {},
   "source": [
    "## 6. Apply to Kaggle Data"
   ]
  },
  {
   "cell_type": "code",
   "execution_count": 15,
   "metadata": {},
   "outputs": [],
   "source": [
    "kaggle = pd.read_csv('kaggle.csv')\n",
    "submission = kaggle.copy()\n",
    "kaggle[['product_id']] = kaggle[['product_id']].astype(str)"
   ]
  },
  {
   "cell_type": "code",
   "execution_count": 16,
   "metadata": {},
   "outputs": [
    {
     "data": {
      "text/html": [
       "<div>\n",
       "<style scoped>\n",
       "    .dataframe tbody tr th:only-of-type {\n",
       "        vertical-align: middle;\n",
       "    }\n",
       "\n",
       "    .dataframe tbody tr th {\n",
       "        vertical-align: top;\n",
       "    }\n",
       "\n",
       "    .dataframe thead th {\n",
       "        text-align: right;\n",
       "    }\n",
       "</style>\n",
       "<table border=\"1\" class=\"dataframe\">\n",
       "  <thead>\n",
       "    <tr style=\"text-align: right;\">\n",
       "      <th></th>\n",
       "      <th>product_id</th>\n",
       "      <th>brand</th>\n",
       "      <th>price</th>\n",
       "      <th>color</th>\n",
       "    </tr>\n",
       "  </thead>\n",
       "  <tbody>\n",
       "    <tr>\n",
       "      <th>0</th>\n",
       "      <td>420</td>\n",
       "      <td>samsung</td>\n",
       "      <td>242.63</td>\n",
       "      <td>black</td>\n",
       "    </tr>\n",
       "    <tr>\n",
       "      <th>1</th>\n",
       "      <td>20</td>\n",
       "      <td>apple</td>\n",
       "      <td>458.28</td>\n",
       "      <td>silver</td>\n",
       "    </tr>\n",
       "    <tr>\n",
       "      <th>2</th>\n",
       "      <td>67</td>\n",
       "      <td>apple</td>\n",
       "      <td>928.19</td>\n",
       "      <td>white</td>\n",
       "    </tr>\n",
       "    <tr>\n",
       "      <th>3</th>\n",
       "      <td>420</td>\n",
       "      <td>samsung</td>\n",
       "      <td>242.64</td>\n",
       "      <td>blue</td>\n",
       "    </tr>\n",
       "    <tr>\n",
       "      <th>4</th>\n",
       "      <td>420</td>\n",
       "      <td>samsung</td>\n",
       "      <td>242.63</td>\n",
       "      <td>silver</td>\n",
       "    </tr>\n",
       "  </tbody>\n",
       "</table>\n",
       "</div>"
      ],
      "text/plain": [
       "  product_id    brand   price   color\n",
       "0        420  samsung  242.63   black\n",
       "1         20    apple  458.28  silver\n",
       "2         67    apple  928.19   white\n",
       "3        420  samsung  242.64    blue\n",
       "4        420  samsung  242.63  silver"
      ]
     },
     "execution_count": 16,
     "metadata": {},
     "output_type": "execute_result"
    }
   ],
   "source": [
    "kaggle.head()"
   ]
  },
  {
   "cell_type": "code",
   "execution_count": 17,
   "metadata": {},
   "outputs": [],
   "source": [
    "kaggle = enc.transform(kaggle)\n",
    "kaggle = con.transform(kaggle)\n",
    "kaggle = enc2.transform(kaggle)\n",
    "kaggle = pd.DataFrame(scaler.fit_transform(kaggle), \n",
    "                         columns=kaggle.columns)"
   ]
  },
  {
   "cell_type": "code",
   "execution_count": 18,
   "metadata": {},
   "outputs": [],
   "source": [
    "# predicting\n",
    "submission['Expected'] = 1 - xgbse_model.predict(kaggle,time_bins=[31])"
   ]
  },
  {
   "cell_type": "code",
   "execution_count": 19,
   "metadata": {},
   "outputs": [
    {
     "data": {
      "text/html": [
       "<div>\n",
       "<style scoped>\n",
       "    .dataframe tbody tr th:only-of-type {\n",
       "        vertical-align: middle;\n",
       "    }\n",
       "\n",
       "    .dataframe tbody tr th {\n",
       "        vertical-align: top;\n",
       "    }\n",
       "\n",
       "    .dataframe thead th {\n",
       "        text-align: right;\n",
       "    }\n",
       "</style>\n",
       "<table border=\"1\" class=\"dataframe\">\n",
       "  <thead>\n",
       "    <tr style=\"text-align: right;\">\n",
       "      <th></th>\n",
       "      <th>product_id</th>\n",
       "      <th>brand</th>\n",
       "      <th>price</th>\n",
       "      <th>color</th>\n",
       "      <th>Expected</th>\n",
       "    </tr>\n",
       "  </thead>\n",
       "  <tbody>\n",
       "    <tr>\n",
       "      <th>0</th>\n",
       "      <td>420</td>\n",
       "      <td>samsung</td>\n",
       "      <td>242.63</td>\n",
       "      <td>black</td>\n",
       "      <td>0.2</td>\n",
       "    </tr>\n",
       "    <tr>\n",
       "      <th>1</th>\n",
       "      <td>20</td>\n",
       "      <td>apple</td>\n",
       "      <td>458.28</td>\n",
       "      <td>silver</td>\n",
       "      <td>1.0</td>\n",
       "    </tr>\n",
       "    <tr>\n",
       "      <th>2</th>\n",
       "      <td>67</td>\n",
       "      <td>apple</td>\n",
       "      <td>928.19</td>\n",
       "      <td>white</td>\n",
       "      <td>1.0</td>\n",
       "    </tr>\n",
       "    <tr>\n",
       "      <th>3</th>\n",
       "      <td>420</td>\n",
       "      <td>samsung</td>\n",
       "      <td>242.64</td>\n",
       "      <td>blue</td>\n",
       "      <td>0.0</td>\n",
       "    </tr>\n",
       "    <tr>\n",
       "      <th>4</th>\n",
       "      <td>420</td>\n",
       "      <td>samsung</td>\n",
       "      <td>242.63</td>\n",
       "      <td>silver</td>\n",
       "      <td>1.0</td>\n",
       "    </tr>\n",
       "    <tr>\n",
       "      <th>...</th>\n",
       "      <td>...</td>\n",
       "      <td>...</td>\n",
       "      <td>...</td>\n",
       "      <td>...</td>\n",
       "      <td>...</td>\n",
       "    </tr>\n",
       "    <tr>\n",
       "      <th>167</th>\n",
       "      <td>476</td>\n",
       "      <td>samsung</td>\n",
       "      <td>131.53</td>\n",
       "      <td>black</td>\n",
       "      <td>0.8</td>\n",
       "    </tr>\n",
       "    <tr>\n",
       "      <th>168</th>\n",
       "      <td>456</td>\n",
       "      <td>samsung</td>\n",
       "      <td>172.23</td>\n",
       "      <td>white</td>\n",
       "      <td>1.0</td>\n",
       "    </tr>\n",
       "    <tr>\n",
       "      <th>169</th>\n",
       "      <td>474</td>\n",
       "      <td>samsung</td>\n",
       "      <td>130.99</td>\n",
       "      <td>white</td>\n",
       "      <td>0.8</td>\n",
       "    </tr>\n",
       "    <tr>\n",
       "      <th>170</th>\n",
       "      <td>474</td>\n",
       "      <td>samsung</td>\n",
       "      <td>130.99</td>\n",
       "      <td>white</td>\n",
       "      <td>0.8</td>\n",
       "    </tr>\n",
       "    <tr>\n",
       "      <th>171</th>\n",
       "      <td>485</td>\n",
       "      <td>samsung</td>\n",
       "      <td>362.42</td>\n",
       "      <td>gold</td>\n",
       "      <td>0.0</td>\n",
       "    </tr>\n",
       "  </tbody>\n",
       "</table>\n",
       "<p>172 rows × 5 columns</p>\n",
       "</div>"
      ],
      "text/plain": [
       "     product_id    brand   price   color  Expected\n",
       "0           420  samsung  242.63   black       0.2\n",
       "1            20    apple  458.28  silver       1.0\n",
       "2            67    apple  928.19   white       1.0\n",
       "3           420  samsung  242.64    blue       0.0\n",
       "4           420  samsung  242.63  silver       1.0\n",
       "..          ...      ...     ...     ...       ...\n",
       "167         476  samsung  131.53   black       0.8\n",
       "168         456  samsung  172.23   white       1.0\n",
       "169         474  samsung  130.99   white       0.8\n",
       "170         474  samsung  130.99   white       0.8\n",
       "171         485  samsung  362.42    gold       0.0\n",
       "\n",
       "[172 rows x 5 columns]"
      ]
     },
     "execution_count": 19,
     "metadata": {},
     "output_type": "execute_result"
    }
   ],
   "source": [
    "submission"
   ]
  },
  {
   "cell_type": "code",
   "execution_count": 20,
   "metadata": {},
   "outputs": [],
   "source": [
    "submission['Id'] = submission.index.astype(str)"
   ]
  },
  {
   "cell_type": "code",
   "execution_count": 21,
   "metadata": {
    "tags": []
   },
   "outputs": [],
   "source": [
    "submission[['Id','Expected']].to_csv('to_kaggle.csv', index = False)"
   ]
  },
  {
   "cell_type": "markdown",
   "metadata": {},
   "source": [
    "Please submit to: https://www.kaggle.com/t/1fd732518dbd43539f115bf559ce5883"
   ]
  },
  {
   "cell_type": "markdown",
   "metadata": {
    "tags": []
   },
   "source": [
    "### 6.1. Find the top 10% products to discount in Kaggle data:"
   ]
  },
  {
   "cell_type": "code",
   "execution_count": 22,
   "metadata": {},
   "outputs": [],
   "source": [
    "top_17 = submission.sort_values(by = 'Expected', ascending=True).head(17).Id.to_list()\n",
    "top_17 = pd.DataFrame(top_17)\n",
    "top_17.columns = ['Id']\n",
    "top_17['Id']=top_17['Id'].astype(int)\n",
    "top_17.to_csv(\"sample_top17.csv\", index = False)"
   ]
  },
  {
   "cell_type": "markdown",
   "metadata": {},
   "source": [
    "Please email sample_top17.csv to mousavi@virignia.edu. Please include the name and/ or number of your mod team in the email."
   ]
  },
  {
   "cell_type": "markdown",
   "metadata": {},
   "source": [
    "## XGBSE Docs:\n",
    "\n",
    "https://github.com/loft-br/xgboost-survival-embeddings/blob/main/docs/how_xgbse_works.md"
   ]
  }
 ],
 "metadata": {
  "celltoolbar": "Slideshow",
  "kernelspec": {
   "display_name": "Python 3 (ipykernel)",
   "language": "python",
   "name": "python3"
  },
  "language_info": {
   "codemirror_mode": {
    "name": "ipython",
    "version": 3
   },
   "file_extension": ".py",
   "mimetype": "text/x-python",
   "name": "python",
   "nbconvert_exporter": "python",
   "pygments_lexer": "ipython3",
   "version": "3.10.6"
  }
 },
 "nbformat": 4,
 "nbformat_minor": 4
}
